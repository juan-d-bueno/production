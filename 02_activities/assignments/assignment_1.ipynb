{
 "cells": [
  {
   "cell_type": "markdown",
   "metadata": {},
   "source": [
    "# Working with parquet files\n",
    "\n",
    "## Objective\n",
    "\n",
    "+ In this assignment, we will use the data downloaded with the module `data_manager` to create features.\n",
    "\n",
    "(11 pts total)\n",
    "\n",
    "## Prerequisites\n",
    "\n",
    "+ This notebook assumes that price data is available to you in the environment variable `PRICE_DATA`. If you have not done so, then execute the notebook `01_materials/labs/2_data_engineering.ipynb` to create this data set.\n"
   ]
  },
  {
   "cell_type": "markdown",
   "metadata": {},
   "source": [
    "+ Load the environment variables using dotenv. (1 pt)"
   ]
  },
  {
   "cell_type": "code",
   "execution_count": 1,
   "metadata": {},
   "outputs": [],
   "source": [
    "# Write your code below.\n",
    "%load_ext dotenv\n",
    "%dotenv"
   ]
  },
  {
   "cell_type": "code",
   "execution_count": 2,
   "metadata": {},
   "outputs": [],
   "source": [
    "import dask.dataframe as dd"
   ]
  },
  {
   "cell_type": "markdown",
   "metadata": {},
   "source": [
    "+ Load the environment variable `PRICE_DATA`.\n",
    "+ Use [glob](https://docs.python.org/3/library/glob.html) to find the path of all parquet files in the directory `PRICE_DATA`.\n",
    "\n",
    "(1pt)"
   ]
  },
  {
   "cell_type": "code",
   "execution_count": 3,
   "metadata": {},
   "outputs": [],
   "source": [
    "import os\n",
    "from glob import glob\n"
   ]
  },
  {
   "cell_type": "code",
   "execution_count": 4,
   "metadata": {},
   "outputs": [],
   "source": [
    "\n",
    "# Write your code below.\n",
    "\n",
    "pd_dir = os.getenv('PRICE_DATA')\n",
    "pd_glob = glob(os.path.join(pd_dir, '**/*.parquet'),recursive= True)\n",
    "df2 = dd.read_parquet(pd_glob).set_index(\"ticker\")\n"
   ]
  },
  {
   "cell_type": "code",
   "execution_count": 5,
   "metadata": {},
   "outputs": [
    {
     "name": "stdout",
     "output_type": "stream",
     "text": [
      "<class 'dask.dataframe.core.DataFrame'>\n",
      "Columns: 9 entries, Date to Year\n",
      "dtypes: datetime64[ns](1), object(1), float64(6), int32(1)"
     ]
    }
   ],
   "source": [
    "df2.info()"
   ]
  },
  {
   "cell_type": "code",
   "execution_count": 6,
   "metadata": {},
   "outputs": [
    {
     "data": {
      "application/vnd.microsoft.datawrangler.viewer.v0+json": {
       "columns": [
        {
         "name": "ticker",
         "rawType": "object",
         "type": "string"
        },
        {
         "name": "Date",
         "rawType": "datetime64[ns]",
         "type": "datetime"
        },
        {
         "name": "Open",
         "rawType": "float64",
         "type": "float"
        },
        {
         "name": "High",
         "rawType": "float64",
         "type": "float"
        },
        {
         "name": "Low",
         "rawType": "float64",
         "type": "float"
        },
        {
         "name": "Close",
         "rawType": "float64",
         "type": "float"
        },
        {
         "name": "Adj Close",
         "rawType": "float64",
         "type": "float"
        },
        {
         "name": "Volume",
         "rawType": "float64",
         "type": "float"
        },
        {
         "name": "source",
         "rawType": "object",
         "type": "string"
        },
        {
         "name": "Year",
         "rawType": "int32",
         "type": "integer"
        }
       ],
       "ref": "4682d42c-2ff7-44c2-946e-14719293efb5",
       "rows": [
        [
         "A",
         "1999-11-18 00:00:00",
         "32.54649353027344",
         "35.765380859375",
         "28.612302780151367",
         "31.473533630371097",
         "27.06866455078125",
         "62546300.0",
         "A.csv",
         "1999"
        ],
        [
         "A",
         "1999-11-19 00:00:00",
         "30.713520050048828",
         "30.75822639465332",
         "28.47818374633789",
         "28.880542755126953",
         "24.838577270507812",
         "15234100.0",
         "A.csv",
         "1999"
        ],
        [
         "A",
         "1999-11-22 00:00:00",
         "29.55114364624023",
         "31.473533630371097",
         "28.65700912475586",
         "31.473533630371097",
         "27.06866455078125",
         "6577800.0",
         "A.csv",
         "1999"
        ],
        [
         "A",
         "1999-11-23 00:00:00",
         "30.400571823120117",
         "31.205293655395508",
         "28.612302780151367",
         "28.612302780151367",
         "24.607879638671875",
         "5975600.0",
         "A.csv",
         "1999"
        ],
        [
         "A",
         "1999-11-24 00:00:00",
         "28.701717376708984",
         "29.998210906982425",
         "28.612302780151367",
         "29.372318267822266",
         "25.261524200439453",
         "4843200.0",
         "A.csv",
         "1999"
        ]
       ],
       "shape": {
        "columns": 9,
        "rows": 5
       }
      },
      "text/html": [
       "<div>\n",
       "<style scoped>\n",
       "    .dataframe tbody tr th:only-of-type {\n",
       "        vertical-align: middle;\n",
       "    }\n",
       "\n",
       "    .dataframe tbody tr th {\n",
       "        vertical-align: top;\n",
       "    }\n",
       "\n",
       "    .dataframe thead th {\n",
       "        text-align: right;\n",
       "    }\n",
       "</style>\n",
       "<table border=\"1\" class=\"dataframe\">\n",
       "  <thead>\n",
       "    <tr style=\"text-align: right;\">\n",
       "      <th></th>\n",
       "      <th>Date</th>\n",
       "      <th>Open</th>\n",
       "      <th>High</th>\n",
       "      <th>Low</th>\n",
       "      <th>Close</th>\n",
       "      <th>Adj Close</th>\n",
       "      <th>Volume</th>\n",
       "      <th>source</th>\n",
       "      <th>Year</th>\n",
       "    </tr>\n",
       "    <tr>\n",
       "      <th>ticker</th>\n",
       "      <th></th>\n",
       "      <th></th>\n",
       "      <th></th>\n",
       "      <th></th>\n",
       "      <th></th>\n",
       "      <th></th>\n",
       "      <th></th>\n",
       "      <th></th>\n",
       "      <th></th>\n",
       "    </tr>\n",
       "  </thead>\n",
       "  <tbody>\n",
       "    <tr>\n",
       "      <th>A</th>\n",
       "      <td>1999-11-18</td>\n",
       "      <td>32.546494</td>\n",
       "      <td>35.765381</td>\n",
       "      <td>28.612303</td>\n",
       "      <td>31.473534</td>\n",
       "      <td>27.068665</td>\n",
       "      <td>62546300.0</td>\n",
       "      <td>A.csv</td>\n",
       "      <td>1999</td>\n",
       "    </tr>\n",
       "    <tr>\n",
       "      <th>A</th>\n",
       "      <td>1999-11-19</td>\n",
       "      <td>30.713520</td>\n",
       "      <td>30.758226</td>\n",
       "      <td>28.478184</td>\n",
       "      <td>28.880543</td>\n",
       "      <td>24.838577</td>\n",
       "      <td>15234100.0</td>\n",
       "      <td>A.csv</td>\n",
       "      <td>1999</td>\n",
       "    </tr>\n",
       "    <tr>\n",
       "      <th>A</th>\n",
       "      <td>1999-11-22</td>\n",
       "      <td>29.551144</td>\n",
       "      <td>31.473534</td>\n",
       "      <td>28.657009</td>\n",
       "      <td>31.473534</td>\n",
       "      <td>27.068665</td>\n",
       "      <td>6577800.0</td>\n",
       "      <td>A.csv</td>\n",
       "      <td>1999</td>\n",
       "    </tr>\n",
       "    <tr>\n",
       "      <th>A</th>\n",
       "      <td>1999-11-23</td>\n",
       "      <td>30.400572</td>\n",
       "      <td>31.205294</td>\n",
       "      <td>28.612303</td>\n",
       "      <td>28.612303</td>\n",
       "      <td>24.607880</td>\n",
       "      <td>5975600.0</td>\n",
       "      <td>A.csv</td>\n",
       "      <td>1999</td>\n",
       "    </tr>\n",
       "    <tr>\n",
       "      <th>A</th>\n",
       "      <td>1999-11-24</td>\n",
       "      <td>28.701717</td>\n",
       "      <td>29.998211</td>\n",
       "      <td>28.612303</td>\n",
       "      <td>29.372318</td>\n",
       "      <td>25.261524</td>\n",
       "      <td>4843200.0</td>\n",
       "      <td>A.csv</td>\n",
       "      <td>1999</td>\n",
       "    </tr>\n",
       "  </tbody>\n",
       "</table>\n",
       "</div>"
      ],
      "text/plain": [
       "             Date       Open       High        Low      Close  Adj Close  \\\n",
       "ticker                                                                     \n",
       "A      1999-11-18  32.546494  35.765381  28.612303  31.473534  27.068665   \n",
       "A      1999-11-19  30.713520  30.758226  28.478184  28.880543  24.838577   \n",
       "A      1999-11-22  29.551144  31.473534  28.657009  31.473534  27.068665   \n",
       "A      1999-11-23  30.400572  31.205294  28.612303  28.612303  24.607880   \n",
       "A      1999-11-24  28.701717  29.998211  28.612303  29.372318  25.261524   \n",
       "\n",
       "            Volume source  Year  \n",
       "ticker                           \n",
       "A       62546300.0  A.csv  1999  \n",
       "A       15234100.0  A.csv  1999  \n",
       "A        6577800.0  A.csv  1999  \n",
       "A        5975600.0  A.csv  1999  \n",
       "A        4843200.0  A.csv  1999  "
      ]
     },
     "execution_count": 6,
     "metadata": {},
     "output_type": "execute_result"
    }
   ],
   "source": [
    "df2.head()"
   ]
  },
  {
   "cell_type": "markdown",
   "metadata": {},
   "source": [
    "For each ticker and using Dask, do the following:\n",
    "\n",
    "+ Add lags for variables Close and Adj_Close.\n",
    "+ Add returns based on Close:\n",
    "    \n",
    "    - `returns`: (Close / Close_lag_1) - 1\n",
    "\n",
    "+ Add the following range: \n",
    "\n",
    "    - `hi_lo_range`: this is the day's High minus Low.\n",
    "\n",
    "+ Assign the result to `dd_feat`.\n",
    "\n",
    "(4 pt)"
   ]
  },
  {
   "cell_type": "code",
   "execution_count": 7,
   "metadata": {},
   "outputs": [
    {
     "name": "stderr",
     "output_type": "stream",
     "text": [
      "/var/folders/kb/wzn_7bf509s7f6q3b7yjdcnh0000gn/T/ipykernel_73831/2182863434.py:2: UserWarning: `meta` is not specified, inferred from partial data. Please provide `meta` if the result is unexpected.\n",
      "  Before: .apply(func)\n",
      "  After:  .apply(func, meta={'x': 'f8', 'y': 'f8'}) for dataframe result\n",
      "  or:     .apply(func, meta=('x', 'f8'))            for series result\n",
      "  df2_lag1= df2.groupby('ticker', group_keys=False).apply(\n",
      "/var/folders/kb/wzn_7bf509s7f6q3b7yjdcnh0000gn/T/ipykernel_73831/2182863434.py:6: UserWarning: `meta` is not specified, inferred from partial data. Please provide `meta` if the result is unexpected.\n",
      "  Before: .apply(func)\n",
      "  After:  .apply(func, meta={'x': 'f8', 'y': 'f8'}) for dataframe result\n",
      "  or:     .apply(func, meta=('x', 'f8'))            for series result\n",
      "  df2_lag2= df2_lag1.groupby('ticker', group_keys=False).apply(\n"
     ]
    }
   ],
   "source": [
    "# Write your code below.\n",
    "df2_lag1= df2.groupby('ticker', group_keys=False).apply(\n",
    "    lambda x: x.assign(Close_lag_1 = x['Close'].shift(1))\n",
    ")\n",
    "\n",
    "df2_lag2= df2_lag1.groupby('ticker', group_keys=False).apply(\n",
    "    lambda x: x.assign(Adj_Close_lag_1 = x['Adj Close'].shift(1))\n",
    ")\n",
    "\n",
    "df_rets = df2_lag2.assign(\n",
    "    Returns = lambda x: x['Close']/x['Close_lag_1'] - 1\n",
    ")\n",
    "\n",
    "df_hi_lo = df_rets.assign(\n",
    "    hi_lo_range = lambda x: x['High']- x['Low']\n",
    ")\n"
   ]
  },
  {
   "cell_type": "code",
   "execution_count": 8,
   "metadata": {},
   "outputs": [
    {
     "data": {
      "text/html": [
       "<div><strong>Dask DataFrame Structure:</strong></div>\n",
       "<div>\n",
       "<style scoped>\n",
       "    .dataframe tbody tr th:only-of-type {\n",
       "        vertical-align: middle;\n",
       "    }\n",
       "\n",
       "    .dataframe tbody tr th {\n",
       "        vertical-align: top;\n",
       "    }\n",
       "\n",
       "    .dataframe thead th {\n",
       "        text-align: right;\n",
       "    }\n",
       "</style>\n",
       "<table border=\"1\" class=\"dataframe\">\n",
       "  <thead>\n",
       "    <tr style=\"text-align: right;\">\n",
       "      <th></th>\n",
       "      <th>Date</th>\n",
       "      <th>Open</th>\n",
       "      <th>High</th>\n",
       "      <th>Low</th>\n",
       "      <th>Close</th>\n",
       "      <th>Adj Close</th>\n",
       "      <th>Volume</th>\n",
       "      <th>source</th>\n",
       "      <th>Year</th>\n",
       "      <th>Close_lag_1</th>\n",
       "      <th>Adj_Close_lag_1</th>\n",
       "      <th>Returns</th>\n",
       "      <th>hi_lo_range</th>\n",
       "    </tr>\n",
       "    <tr>\n",
       "      <th>npartitions=90</th>\n",
       "      <th></th>\n",
       "      <th></th>\n",
       "      <th></th>\n",
       "      <th></th>\n",
       "      <th></th>\n",
       "      <th></th>\n",
       "      <th></th>\n",
       "      <th></th>\n",
       "      <th></th>\n",
       "      <th></th>\n",
       "      <th></th>\n",
       "      <th></th>\n",
       "      <th></th>\n",
       "    </tr>\n",
       "  </thead>\n",
       "  <tbody>\n",
       "    <tr>\n",
       "      <th>A</th>\n",
       "      <td>datetime64[ns]</td>\n",
       "      <td>float64</td>\n",
       "      <td>float64</td>\n",
       "      <td>float64</td>\n",
       "      <td>float64</td>\n",
       "      <td>float64</td>\n",
       "      <td>float64</td>\n",
       "      <td>object</td>\n",
       "      <td>int32</td>\n",
       "      <td>float64</td>\n",
       "      <td>float64</td>\n",
       "      <td>float64</td>\n",
       "      <td>float64</td>\n",
       "    </tr>\n",
       "    <tr>\n",
       "      <th>ACB</th>\n",
       "      <td>...</td>\n",
       "      <td>...</td>\n",
       "      <td>...</td>\n",
       "      <td>...</td>\n",
       "      <td>...</td>\n",
       "      <td>...</td>\n",
       "      <td>...</td>\n",
       "      <td>...</td>\n",
       "      <td>...</td>\n",
       "      <td>...</td>\n",
       "      <td>...</td>\n",
       "      <td>...</td>\n",
       "      <td>...</td>\n",
       "    </tr>\n",
       "    <tr>\n",
       "      <th>...</th>\n",
       "      <td>...</td>\n",
       "      <td>...</td>\n",
       "      <td>...</td>\n",
       "      <td>...</td>\n",
       "      <td>...</td>\n",
       "      <td>...</td>\n",
       "      <td>...</td>\n",
       "      <td>...</td>\n",
       "      <td>...</td>\n",
       "      <td>...</td>\n",
       "      <td>...</td>\n",
       "      <td>...</td>\n",
       "      <td>...</td>\n",
       "    </tr>\n",
       "    <tr>\n",
       "      <th>ZLAB</th>\n",
       "      <td>...</td>\n",
       "      <td>...</td>\n",
       "      <td>...</td>\n",
       "      <td>...</td>\n",
       "      <td>...</td>\n",
       "      <td>...</td>\n",
       "      <td>...</td>\n",
       "      <td>...</td>\n",
       "      <td>...</td>\n",
       "      <td>...</td>\n",
       "      <td>...</td>\n",
       "      <td>...</td>\n",
       "      <td>...</td>\n",
       "    </tr>\n",
       "    <tr>\n",
       "      <th>ZLAB</th>\n",
       "      <td>...</td>\n",
       "      <td>...</td>\n",
       "      <td>...</td>\n",
       "      <td>...</td>\n",
       "      <td>...</td>\n",
       "      <td>...</td>\n",
       "      <td>...</td>\n",
       "      <td>...</td>\n",
       "      <td>...</td>\n",
       "      <td>...</td>\n",
       "      <td>...</td>\n",
       "      <td>...</td>\n",
       "      <td>...</td>\n",
       "    </tr>\n",
       "  </tbody>\n",
       "</table>\n",
       "</div>\n",
       "<div>Dask Name: assign, 19 graph layers</div>"
      ],
      "text/plain": [
       "Dask DataFrame Structure:\n",
       "                          Date     Open     High      Low    Close Adj Close   Volume  source   Year Close_lag_1 Adj_Close_lag_1  Returns hi_lo_range\n",
       "npartitions=90                                                                                                                                       \n",
       "A               datetime64[ns]  float64  float64  float64  float64   float64  float64  object  int32     float64         float64  float64     float64\n",
       "ACB                        ...      ...      ...      ...      ...       ...      ...     ...    ...         ...             ...      ...         ...\n",
       "...                        ...      ...      ...      ...      ...       ...      ...     ...    ...         ...             ...      ...         ...\n",
       "ZLAB                       ...      ...      ...      ...      ...       ...      ...     ...    ...         ...             ...      ...         ...\n",
       "ZLAB                       ...      ...      ...      ...      ...       ...      ...     ...    ...         ...             ...      ...         ...\n",
       "Dask Name: assign, 19 graph layers"
      ]
     },
     "execution_count": 8,
     "metadata": {},
     "output_type": "execute_result"
    }
   ],
   "source": [
    "df_hi_lo"
   ]
  },
  {
   "cell_type": "code",
   "execution_count": 9,
   "metadata": {},
   "outputs": [
    {
     "name": "stdout",
     "output_type": "stream",
     "text": [
      "<class 'pandas.core.frame.DataFrame'>\n",
      "Index: 336878 entries, A to ZLAB\n",
      "Data columns (total 13 columns):\n",
      " #   Column           Non-Null Count   Dtype         \n",
      "---  ------           --------------   -----         \n",
      " 0   Date             336878 non-null  datetime64[ns]\n",
      " 1   Open             336864 non-null  float64       \n",
      " 2   High             336864 non-null  float64       \n",
      " 3   Low              336864 non-null  float64       \n",
      " 4   Close            336864 non-null  float64       \n",
      " 5   Adj Close        336864 non-null  float64       \n",
      " 6   Volume           336864 non-null  float64       \n",
      " 7   source           336878 non-null  object        \n",
      " 8   Year             336878 non-null  int32         \n",
      " 9   Close_lag_1      336774 non-null  float64       \n",
      " 10  Adj_Close_lag_1  336774 non-null  float64       \n",
      " 11  Returns          336767 non-null  float64       \n",
      " 12  hi_lo_range      336864 non-null  float64       \n",
      "dtypes: datetime64[ns](1), float64(10), int32(1), object(1)\n",
      "memory usage: 34.7+ MB\n"
     ]
    }
   ],
   "source": [
    "dd_feat = df_hi_lo.compute()\n",
    "dd_feat.info()"
   ]
  },
  {
   "cell_type": "markdown",
   "metadata": {},
   "source": [
    "+ Convert the Dask data frame to a pandas data frame. \n",
    "+ Add a new feature containing the moving average of `returns` using a window of 10 days. There are several ways to solve this task, a simple one uses `.rolling(10).mean()`.\n",
    "\n",
    "(3 pt)"
   ]
  },
  {
   "cell_type": "code",
   "execution_count": null,
   "metadata": {},
   "outputs": [],
   "source": [
    "# Write your code below.\n",
    "\n",
    "df2_m_avg= dd_feat.groupby('ticker', group_keys=False).apply(\n",
    "    lambda x: x.assign(Moving_avg = x['Returns'].rolling(10).mean())\n",
    ")"
   ]
  },
  {
   "cell_type": "code",
   "execution_count": 11,
   "metadata": {},
   "outputs": [
    {
     "name": "stdout",
     "output_type": "stream",
     "text": [
      "<class 'pandas.core.frame.DataFrame'>\n",
      "Index: 336878 entries, A to ZLAB\n",
      "Data columns (total 14 columns):\n",
      " #   Column           Non-Null Count   Dtype         \n",
      "---  ------           --------------   -----         \n",
      " 0   Date             336878 non-null  datetime64[ns]\n",
      " 1   Open             336864 non-null  float64       \n",
      " 2   High             336864 non-null  float64       \n",
      " 3   Low              336864 non-null  float64       \n",
      " 4   Close            336864 non-null  float64       \n",
      " 5   Adj Close        336864 non-null  float64       \n",
      " 6   Volume           336864 non-null  float64       \n",
      " 7   source           336878 non-null  object        \n",
      " 8   Year             336878 non-null  int32         \n",
      " 9   Close_lag_1      336774 non-null  float64       \n",
      " 10  Adj_Close_lag_1  336774 non-null  float64       \n",
      " 11  Returns          336767 non-null  float64       \n",
      " 12  hi_lo_range      336864 non-null  float64       \n",
      " 13  Moving_avg       335903 non-null  float64       \n",
      "dtypes: datetime64[ns](1), float64(11), int32(1), object(1)\n",
      "memory usage: 45.3+ MB\n"
     ]
    }
   ],
   "source": [
    "df2_m_avg.info()"
   ]
  },
  {
   "cell_type": "code",
   "execution_count": 13,
   "metadata": {},
   "outputs": [
    {
     "data": {
      "application/vnd.microsoft.datawrangler.viewer.v0+json": {
       "columns": [
        {
         "name": "ticker",
         "rawType": "object",
         "type": "string"
        },
        {
         "name": "Date",
         "rawType": "datetime64[ns]",
         "type": "datetime"
        },
        {
         "name": "Open",
         "rawType": "float64",
         "type": "float"
        },
        {
         "name": "High",
         "rawType": "float64",
         "type": "float"
        },
        {
         "name": "Low",
         "rawType": "float64",
         "type": "float"
        },
        {
         "name": "Close",
         "rawType": "float64",
         "type": "float"
        },
        {
         "name": "Adj Close",
         "rawType": "float64",
         "type": "float"
        },
        {
         "name": "Volume",
         "rawType": "float64",
         "type": "float"
        },
        {
         "name": "source",
         "rawType": "object",
         "type": "string"
        },
        {
         "name": "Year",
         "rawType": "int32",
         "type": "integer"
        },
        {
         "name": "Close_lag_1",
         "rawType": "float64",
         "type": "float"
        },
        {
         "name": "Adj_Close_lag_1",
         "rawType": "float64",
         "type": "float"
        },
        {
         "name": "Returns",
         "rawType": "float64",
         "type": "float"
        },
        {
         "name": "hi_lo_range",
         "rawType": "float64",
         "type": "float"
        },
        {
         "name": "Moving_avg",
         "rawType": "float64",
         "type": "float"
        }
       ],
       "ref": "e68850ef-e734-4c15-ae6d-8ae30901a101",
       "rows": [
        [
         "ZLAB",
         "2020-03-26 00:00:00",
         "51.43000030517578",
         "52.790000915527344",
         "49.0",
         "52.59000015258789",
         "52.59000015258789",
         "431200.0",
         "ZLAB.csv",
         "2020",
         "51.45000076293945",
         "51.45000076293945",
         "0.022157422210761224",
         "3.7900009155273438",
         "0.019329723848769298"
        ],
        [
         "ZLAB",
         "2020-03-27 00:00:00",
         "51.0",
         "51.70500183105469",
         "49.5",
         "50.959999084472656",
         "50.959999084472656",
         "415400.0",
         "ZLAB.csv",
         "2020",
         "52.59000015258789",
         "52.59000015258789",
         "-0.030994505863963684",
         "2.2050018310546875",
         "0.0012324942583009535"
        ],
        [
         "ZLAB",
         "2020-03-30 00:00:00",
         "51.529998779296875",
         "53.09000015258789",
         "50.74800109863281",
         "52.970001220703125",
         "52.970001220703125",
         "228000.0",
         "ZLAB.csv",
         "2020",
         "50.959999084472656",
         "50.959999084472656",
         "0.03944274278534876",
         "2.341999053955078",
         "0.018992556747915546"
        ],
        [
         "ZLAB",
         "2020-03-31 00:00:00",
         "53.25",
         "53.29999923706055",
         "50.17499923706055",
         "51.47999954223633",
         "51.47999954223633",
         "257800.0",
         "ZLAB.csv",
         "2020",
         "52.970001220703125",
         "52.970001220703125",
         "-0.028129160734933767",
         "3.125",
         "0.0003960784050147881"
        ],
        [
         "ZLAB",
         "2020-04-01 00:00:00",
         "50.06999969482422",
         "51.90999984741211",
         "47.75",
         "48.81999969482422",
         "48.81999969482422",
         "316200.0",
         "ZLAB.csv",
         "2020",
         "51.47999954223633",
         "51.47999954223633",
         "-0.05167054916598701",
         "4.159999847412109",
         "0.0008912266806305191"
        ]
       ],
       "shape": {
        "columns": 14,
        "rows": 5
       }
      },
      "text/html": [
       "<div>\n",
       "<style scoped>\n",
       "    .dataframe tbody tr th:only-of-type {\n",
       "        vertical-align: middle;\n",
       "    }\n",
       "\n",
       "    .dataframe tbody tr th {\n",
       "        vertical-align: top;\n",
       "    }\n",
       "\n",
       "    .dataframe thead th {\n",
       "        text-align: right;\n",
       "    }\n",
       "</style>\n",
       "<table border=\"1\" class=\"dataframe\">\n",
       "  <thead>\n",
       "    <tr style=\"text-align: right;\">\n",
       "      <th></th>\n",
       "      <th>Date</th>\n",
       "      <th>Open</th>\n",
       "      <th>High</th>\n",
       "      <th>Low</th>\n",
       "      <th>Close</th>\n",
       "      <th>Adj Close</th>\n",
       "      <th>Volume</th>\n",
       "      <th>source</th>\n",
       "      <th>Year</th>\n",
       "      <th>Close_lag_1</th>\n",
       "      <th>Adj_Close_lag_1</th>\n",
       "      <th>Returns</th>\n",
       "      <th>hi_lo_range</th>\n",
       "      <th>Moving_avg</th>\n",
       "    </tr>\n",
       "    <tr>\n",
       "      <th>ticker</th>\n",
       "      <th></th>\n",
       "      <th></th>\n",
       "      <th></th>\n",
       "      <th></th>\n",
       "      <th></th>\n",
       "      <th></th>\n",
       "      <th></th>\n",
       "      <th></th>\n",
       "      <th></th>\n",
       "      <th></th>\n",
       "      <th></th>\n",
       "      <th></th>\n",
       "      <th></th>\n",
       "      <th></th>\n",
       "    </tr>\n",
       "  </thead>\n",
       "  <tbody>\n",
       "    <tr>\n",
       "      <th>ZLAB</th>\n",
       "      <td>2020-03-26</td>\n",
       "      <td>51.430000</td>\n",
       "      <td>52.790001</td>\n",
       "      <td>49.000000</td>\n",
       "      <td>52.590000</td>\n",
       "      <td>52.590000</td>\n",
       "      <td>431200.0</td>\n",
       "      <td>ZLAB.csv</td>\n",
       "      <td>2020</td>\n",
       "      <td>51.450001</td>\n",
       "      <td>51.450001</td>\n",
       "      <td>0.022157</td>\n",
       "      <td>3.790001</td>\n",
       "      <td>0.019330</td>\n",
       "    </tr>\n",
       "    <tr>\n",
       "      <th>ZLAB</th>\n",
       "      <td>2020-03-27</td>\n",
       "      <td>51.000000</td>\n",
       "      <td>51.705002</td>\n",
       "      <td>49.500000</td>\n",
       "      <td>50.959999</td>\n",
       "      <td>50.959999</td>\n",
       "      <td>415400.0</td>\n",
       "      <td>ZLAB.csv</td>\n",
       "      <td>2020</td>\n",
       "      <td>52.590000</td>\n",
       "      <td>52.590000</td>\n",
       "      <td>-0.030995</td>\n",
       "      <td>2.205002</td>\n",
       "      <td>0.001232</td>\n",
       "    </tr>\n",
       "    <tr>\n",
       "      <th>ZLAB</th>\n",
       "      <td>2020-03-30</td>\n",
       "      <td>51.529999</td>\n",
       "      <td>53.090000</td>\n",
       "      <td>50.748001</td>\n",
       "      <td>52.970001</td>\n",
       "      <td>52.970001</td>\n",
       "      <td>228000.0</td>\n",
       "      <td>ZLAB.csv</td>\n",
       "      <td>2020</td>\n",
       "      <td>50.959999</td>\n",
       "      <td>50.959999</td>\n",
       "      <td>0.039443</td>\n",
       "      <td>2.341999</td>\n",
       "      <td>0.018993</td>\n",
       "    </tr>\n",
       "    <tr>\n",
       "      <th>ZLAB</th>\n",
       "      <td>2020-03-31</td>\n",
       "      <td>53.250000</td>\n",
       "      <td>53.299999</td>\n",
       "      <td>50.174999</td>\n",
       "      <td>51.480000</td>\n",
       "      <td>51.480000</td>\n",
       "      <td>257800.0</td>\n",
       "      <td>ZLAB.csv</td>\n",
       "      <td>2020</td>\n",
       "      <td>52.970001</td>\n",
       "      <td>52.970001</td>\n",
       "      <td>-0.028129</td>\n",
       "      <td>3.125000</td>\n",
       "      <td>0.000396</td>\n",
       "    </tr>\n",
       "    <tr>\n",
       "      <th>ZLAB</th>\n",
       "      <td>2020-04-01</td>\n",
       "      <td>50.070000</td>\n",
       "      <td>51.910000</td>\n",
       "      <td>47.750000</td>\n",
       "      <td>48.820000</td>\n",
       "      <td>48.820000</td>\n",
       "      <td>316200.0</td>\n",
       "      <td>ZLAB.csv</td>\n",
       "      <td>2020</td>\n",
       "      <td>51.480000</td>\n",
       "      <td>51.480000</td>\n",
       "      <td>-0.051671</td>\n",
       "      <td>4.160000</td>\n",
       "      <td>0.000891</td>\n",
       "    </tr>\n",
       "  </tbody>\n",
       "</table>\n",
       "</div>"
      ],
      "text/plain": [
       "             Date       Open       High        Low      Close  Adj Close  \\\n",
       "ticker                                                                     \n",
       "ZLAB   2020-03-26  51.430000  52.790001  49.000000  52.590000  52.590000   \n",
       "ZLAB   2020-03-27  51.000000  51.705002  49.500000  50.959999  50.959999   \n",
       "ZLAB   2020-03-30  51.529999  53.090000  50.748001  52.970001  52.970001   \n",
       "ZLAB   2020-03-31  53.250000  53.299999  50.174999  51.480000  51.480000   \n",
       "ZLAB   2020-04-01  50.070000  51.910000  47.750000  48.820000  48.820000   \n",
       "\n",
       "          Volume    source  Year  Close_lag_1  Adj_Close_lag_1   Returns  \\\n",
       "ticker                                                                     \n",
       "ZLAB    431200.0  ZLAB.csv  2020    51.450001        51.450001  0.022157   \n",
       "ZLAB    415400.0  ZLAB.csv  2020    52.590000        52.590000 -0.030995   \n",
       "ZLAB    228000.0  ZLAB.csv  2020    50.959999        50.959999  0.039443   \n",
       "ZLAB    257800.0  ZLAB.csv  2020    52.970001        52.970001 -0.028129   \n",
       "ZLAB    316200.0  ZLAB.csv  2020    51.480000        51.480000 -0.051671   \n",
       "\n",
       "        hi_lo_range  Moving_avg  \n",
       "ticker                           \n",
       "ZLAB       3.790001    0.019330  \n",
       "ZLAB       2.205002    0.001232  \n",
       "ZLAB       2.341999    0.018993  \n",
       "ZLAB       3.125000    0.000396  \n",
       "ZLAB       4.160000    0.000891  "
      ]
     },
     "execution_count": 13,
     "metadata": {},
     "output_type": "execute_result"
    }
   ],
   "source": [
    "df2_m_avg.tail()"
   ]
  },
  {
   "cell_type": "markdown",
   "metadata": {},
   "source": [
    "Please comment:\n",
    "\n",
    "+ Was it necessary to convert to pandas to calculate the moving average return?\n",
    "+ Would it have been better to do it in Dask? Why?\n",
    "\n",
    "(1 pt)"
   ]
  },
  {
   "cell_type": "markdown",
   "metadata": {},
   "source": [
    "No, it wasn't necessary, in fact it makes it slower.\n",
    "Dask does these calculations faster, since it does parallel computation and lazy evaluations."
   ]
  },
  {
   "cell_type": "markdown",
   "metadata": {},
   "source": [
    "## Criteria\n",
    "\n",
    "The [rubric](./assignment_1_rubric_clean.xlsx) contains the criteria for grading."
   ]
  },
  {
   "cell_type": "markdown",
   "metadata": {},
   "source": [
    "## Submission Information\n",
    "\n",
    "🚨 **Please review our [Assignment Submission Guide](https://github.com/UofT-DSI/onboarding/blob/main/onboarding_documents/submissions.md)** 🚨 for detailed instructions on how to format, branch, and submit your work. Following these guidelines is crucial for your submissions to be evaluated correctly.\n",
    "\n",
    "### Submission Parameters:\n",
    "* Submission Due Date: `HH:MM AM/PM - DD/MM/YYYY`\n",
    "* The branch name for your repo should be: `assignment-1`\n",
    "* What to submit for this assignment:\n",
    "    * This Jupyter Notebook (assignment_1.ipynb) should be populated and should be the only change in your pull request.\n",
    "* What the pull request link should look like for this assignment: `https://github.com/<your_github_username>/production/pull/<pr_id>`\n",
    "    * Open a private window in your browser. Copy and paste the link to your pull request into the address bar. Make sure you can see your pull request properly. This helps the technical facilitator and learning support staff review your submission easily.\n",
    "\n",
    "Checklist:\n",
    "- [ ] Created a branch with the correct naming convention.\n",
    "- [ ] Ensured that the repository is public.\n",
    "- [ ] Reviewed the PR description guidelines and adhered to them.\n",
    "- [ ] Verify that the link is accessible in a private browser window.\n",
    "\n",
    "If you encounter any difficulties or have questions, please don't hesitate to reach out to our team via our Slack at `#cohort-3-help`. Our Technical Facilitators and Learning Support staff are here to help you navigate any challenges."
   ]
  }
 ],
 "metadata": {
  "kernelspec": {
   "display_name": "dsi_participant",
   "language": "python",
   "name": "python3"
  },
  "language_info": {
   "codemirror_mode": {
    "name": "ipython",
    "version": 3
   },
   "file_extension": ".py",
   "mimetype": "text/x-python",
   "name": "python",
   "nbconvert_exporter": "python",
   "pygments_lexer": "ipython3",
   "version": "3.9.7"
  }
 },
 "nbformat": 4,
 "nbformat_minor": 2
}
